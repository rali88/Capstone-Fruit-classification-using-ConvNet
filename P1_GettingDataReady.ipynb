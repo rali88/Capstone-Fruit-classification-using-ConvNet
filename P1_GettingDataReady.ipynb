{
  "cells": [
    {
      "metadata": {
        "_uuid": "087877e4abfeb73e449a0f54ed725c7d6f5b1e63"
      },
      "cell_type": "markdown",
      "source": "# Using convolution neural network to classify fruits\nWe will use keras library to build a convolution neural network to classify fruits into different classes. We wil be using kaggle kernel for this analysis. We will also use kaggle's gpu.  In order to do this we go to the settings tab and mark the check box named 'Enable GPU'.  \nAs we will be using kaggle kernel for this analysis, the first step would be doing some exploratory data analysis (EDA) and getting data ready for analysis.\nThis notebook is intended for performing the EDA and data wrangling and is ***Part 1*** of fruit classification project. This notebook takes users in a step wise manner to getting their data ready for model building.\nWe will be working with version 2018.07.01.0 of the 'fruits-360' dataset."
    },
    {
      "metadata": {
        "_uuid": "1b223ab914b769a3a8b591fb22cb1e7b73e51d01"
      },
      "cell_type": "markdown",
      "source": "## Importing required packages\nFirstly, lets import the packages that we will be using. The particular use of every package is shown in the comments."
    },
    {
      "metadata": {
        "_cell_guid": "b1076dfc-b9ad-4769-8c92-a6c4dae69d19",
        "_uuid": "8f2839f25d086af736a60e9eeb907d3b93b6e0e5",
        "trusted": true,
        "collapsed": true
      },
      "cell_type": "code",
      "source": "%matplotlib inline\n\nimport numpy as np # linear algebra\nimport pandas as pd # I/O of data\nimport matplotlib.pyplot as plt # making plots\n\nimport os, random, shutil, zlib # directory operations",
      "execution_count": 1,
      "outputs": []
    },
    {
      "metadata": {
        "_uuid": "9ccde57f7bdb6c26c4a9b1f7a089e26c4a6163ac"
      },
      "cell_type": "markdown",
      "source": "## Navigating different directories: the directory where we will work, the directory where the input data is stored and any directory that we need to create in the directory where we will work."
    },
    {
      "metadata": {
        "_uuid": "c517c3d7433664c72d087bbd81709e322fdbe3ac"
      },
      "cell_type": "markdown",
      "source": "We need to specify the location where the data exists. In kaggle the default directory (location where the kernel starts in) is the 'working' directory. We can print this directory's path and it's contents as shown below."
    },
    {
      "metadata": {
        "trusted": true,
        "_uuid": "662aacf2851f151d591cda9b778c1381ca4eaa2c"
      },
      "cell_type": "code",
      "source": "print('Current directory is {}'.format(os.getcwd())) # print the path of the current directory\nprint('Current directory contains the follwoing sub-directories:\\n {}'.format(os.listdir())) # print the contents of the current directory",
      "execution_count": 2,
      "outputs": [
        {
          "output_type": "stream",
          "text": "Current directory is /kaggle/working\nCurrent directory contains the follwoing sub-directories:\n ['.ipynb_checkpoints', '__notebook_source__.ipynb']\n",
          "name": "stdout"
        }
      ]
    },
    {
      "metadata": {
        "_uuid": "4da4fbabb54c1aeec0c7b9b5a14f7b178b8358c0"
      },
      "cell_type": "markdown",
      "source": " If we navigate upstream (to the directory 'kaggle' and print it's contents , we will find a directory named 'input'. This is where the input data exists. The benefit of using kaggle kernel for analyzing kaggle datasets is that we do not need to download this data as it can be accessed directly from the kernel."
    },
    {
      "metadata": {
        "trusted": true,
        "_uuid": "be1608ee023948440f691ba28044a12973143bca"
      },
      "cell_type": "code",
      "source": "print('Kaggle directory contains the following sub-directories:\\n {}'.format(os.listdir('../'))) # print the current directory",
      "execution_count": 3,
      "outputs": [
        {
          "output_type": "stream",
          "text": "Kaggle directory contains the following sub-directories:\n ['input', 'working', 'config', 'lib']\n",
          "name": "stdout"
        }
      ]
    },
    {
      "metadata": {
        "_uuid": "94a14dc7acca9eafe2925cd26e11ca642e568788"
      },
      "cell_type": "markdown",
      "source": "The fruits-360 dataset, which we are using for this analysis, contains 'Test' and 'Training' directories. "
    },
    {
      "metadata": {
        "trusted": true,
        "_uuid": "b5edb1853121effe1683facc1d61018d6ae6c3f7"
      },
      "cell_type": "code",
      "source": "print('Input directory contains the following sub-directories:\\n {}'.format(os.listdir('../input/fruits-360_dataset/fruits-360')))",
      "execution_count": 4,
      "outputs": [
        {
          "output_type": "stream",
          "text": "Input directory contains the following sub-directories:\n ['test-multiple_fruits', 'readme.md', 'Test', 'LICENSE', 'papers', 'Training']\n",
          "name": "stdout"
        }
      ]
    },
    {
      "metadata": {
        "_uuid": "f7cdbd94723d96d201a233e76110958c4139727e"
      },
      "cell_type": "markdown",
      "source": "Within each of these are sub-directories containing fruits images. These sub-directories are named after the fruits that they contain so we can use the directory names as the target variables (fruit classes)."
    },
    {
      "metadata": {
        "trusted": true,
        "_uuid": "7c7cf9fc6036d1fe0dad867df7a7fd9603f97439"
      },
      "cell_type": "code",
      "source": "print('Validation directory contains the following sub-directories:\\n {}'.format(os.listdir('../input/fruits-360_dataset/fruits-360/Test')))",
      "execution_count": 5,
      "outputs": [
        {
          "output_type": "stream",
          "text": "Validation directory contains the following sub-directories:\n ['Nectarine', 'Kaki', 'Avocado', 'Apple Golden 3', 'Lemon', 'Pear Monster', 'Apple Red Yellow', 'Cherry 2', 'Apple Red 1', 'Pear Abate', 'Mandarine', 'Strawberry', 'Cherry Rainier', 'Cocos', 'Cantaloupe 2', 'Granadilla', 'Pomegranate', 'Lychee', 'Quince', 'Raspberry', 'Tangelo', 'Mango', 'Plum', 'Tamarillo', 'Apple Granny Smith', 'Passion Fruit', 'Lemon Meyer', 'Grapefruit White', 'Banana Red', 'Huckleberry', 'Cherry Wax Yellow', 'Physalis with Husk', 'Dates', 'Clementine', 'Strawberry Wedge', 'Pitahaya Red', 'Cherry Wax Red', 'Limes', 'Carambula', 'Apple Red 2', 'Peach', 'Apple Golden 2', 'Cherry 1', 'Physalis', 'Pepino', 'Maracuja', 'Pear Williams', 'Walnut', 'Pineapple', 'Avocado ripe', 'Papaya', 'Pear', 'Cherry Wax Black', 'Cactus fruit', 'Rambutan', 'Apple Red Delicious', 'Pineapple Mini', 'Grape White', 'Apricot', 'Kumquats', 'Melon Piel de Sapo', 'Kiwi', 'Orange', 'Guava', 'Grape Pink', 'Apple Red 3', 'Peach Flat', 'Cantaloupe 1', 'Grape White 2', 'Mulberry', 'Grapefruit Pink', 'Banana', 'Apple Braeburn', 'Apple Golden 1', 'Salak']\n",
          "name": "stdout"
        }
      ]
    },
    {
      "metadata": {
        "trusted": true,
        "_uuid": "e9dcf1f99d24868d2eb6d232847a37fcaab04bb4"
      },
      "cell_type": "code",
      "source": "print('Training directory contains the following sub-directories:\\n {}'.format(os.listdir('../input/fruits-360_dataset/fruits-360/Training')))",
      "execution_count": 6,
      "outputs": [
        {
          "output_type": "stream",
          "text": "Training directory contains the following sub-directories:\n ['Nectarine', 'Kaki', 'Avocado', 'Apple Golden 3', 'Lemon', 'Pear Monster', 'Apple Red Yellow', 'Cherry 2', 'Apple Red 1', 'Pear Abate', 'Mandarine', 'Strawberry', 'Cherry Rainier', 'Cocos', 'Cantaloupe 2', 'Granadilla', 'Pomegranate', 'Lychee', 'Quince', 'Raspberry', 'Tangelo', 'Mango', 'Plum', 'Tamarillo', 'Apple Granny Smith', 'Passion Fruit', 'Lemon Meyer', 'Grapefruit White', 'Banana Red', 'Huckleberry', 'Cherry Wax Yellow', 'Physalis with Husk', 'Dates', 'Clementine', 'Strawberry Wedge', 'Pitahaya Red', 'Cherry Wax Red', 'Limes', 'Carambula', 'Apple Red 2', 'Peach', 'Apple Golden 2', 'Cherry 1', 'Physalis', 'Pepino', 'Maracuja', 'Pear Williams', 'Walnut', 'Pineapple', 'Avocado ripe', 'Papaya', 'Pear', 'Cherry Wax Black', 'Cactus fruit', 'Rambutan', 'Apple Red Delicious', 'Pineapple Mini', 'Grape White', 'Apricot', 'Kumquats', 'Melon Piel de Sapo', 'Kiwi', 'Orange', 'Guava', 'Grape Pink', 'Apple Red 3', 'Peach Flat', 'Cantaloupe 1', 'Grape White 2', 'Mulberry', 'Grapefruit Pink', 'Banana', 'Apple Braeburn', 'Apple Golden 1', 'Salak']\n",
          "name": "stdout"
        }
      ]
    },
    {
      "metadata": {
        "_uuid": "05cfc32dbdab255113084a4b0917d4c5ea40a4ce"
      },
      "cell_type": "markdown",
      "source": "The first check we need to make is that the directories in the the Validation directory and Training directory are equal in number and have the same names, as we will be using these names as the names of our classes. To do that we will use the assert function as shown below:"
    },
    {
      "metadata": {
        "trusted": true,
        "_uuid": "d58a5bb7b81a63d9781c945531cb88e6d665848e",
        "collapsed": true
      },
      "cell_type": "code",
      "source": "assert os.listdir('../input/fruits-360_dataset/fruits-360/Test') == os.listdir('../input/fruits-360_dataset/fruits-360/Training')",
      "execution_count": 7,
      "outputs": []
    },
    {
      "metadata": {
        "_uuid": "c274bb07f9f18b80ab525c96004f64a7920c135e"
      },
      "cell_type": "markdown",
      "source": "As we do not see any error the input data has passed the first check. Now that we know where our data is we can create variables for the paths to these directories.\nBut as we can see that we do not have any validation dataset, therefore, we will need to move some images from the 'Test' directory to a new directory. As we only have write access to the 'working' directory, that is where we will create three new directories: 1- for test images, another for training images and the last one for validation images. The 'Training' directory does not need to be created if the kernel is run on an updated datset. The only reason we are creating this directory is because we will save the created directories at the end of the kernel. The reason for saving is that we won't have to run this kernel again when we start building our convolution network. *** Note that the training folder will be copied as is to the working directory***.    \nThe following code sets the paths for different directories."
    },
    {
      "metadata": {
        "_cell_guid": "79c7e3d0-c299-4dcb-8224-4455121ee9b0",
        "_uuid": "d629ff2d2480ee46fbb7e2d37f6b5fab8052498a",
        "collapsed": true,
        "trusted": true
      },
      "cell_type": "code",
      "source": "validationPathSource = '../input/fruits-360_dataset/fruits-360/Test' # path to validation input directory\ntrainPathSource = '../input/fruits-360_dataset/fruits-360/Training' # path to training input directory\nvalidationPathDest = '../working/Validation' # path to the validation directory to which we will move validation images\ntestPathDest = '../working/Test' # path to the test directory to which we will move test images\ntrainPathDest = '../working/Training' # path to the test directory to which we will move training images",
      "execution_count": 8,
      "outputs": []
    },
    {
      "metadata": {
        "_uuid": "2ccf6b7724e45283a0099a7a377c3468e77b6302"
      },
      "cell_type": "markdown",
      "source": "Copying images from one directory to another will require alot of directory navigation. To make the workflow easier, it will be helpfull for us if we choose one directory as our reference point. As the paths that we have defined above are relative to the 'working' directory, the 'working' directory is a reasonable choice for a reference point. To make directory navigation simpler, let's first define a function which changes the current directory to the 'working' directory. "
    },
    {
      "metadata": {
        "_cell_guid": "71d63d44-c2b2-4055-bdd1-eed9390258f2",
        "_uuid": "f03eb2d32029d64412b5baa3c7ead827180609d5",
        "collapsed": true,
        "trusted": true
      },
      "cell_type": "code",
      "source": "def get2working():\n    \"\"\"\"\" This function changes the current directory to the working directory\n    regardless of the fact if the current directory is upstream or downstream the\n    working directory \"\"\"\"\"\n    while True:\n        if os.getcwd() == '/kaggle/working': # if we are in the working directory then break\n            break\n        elif os.getcwd() == '/': # else if we are upstream change it to the working directory\n            os.chdir('kaggle/working')\n        else:\n            os.chdir('..') # else if we are downstream move back a directory untill we are in the working directory",
      "execution_count": 9,
      "outputs": []
    },
    {
      "metadata": {
        "_uuid": "a91da12665ee3d85c0fe8e54805de516febaecde"
      },
      "cell_type": "markdown",
      "source": "Another function that will help us for directory navigation is for the creation of folders.  Given a path ending with the directory's name to be created as the input to this function, a folder with that name is created. "
    },
    {
      "metadata": {
        "_cell_guid": "78b82564-c24f-4a61-801f-5caa1c8d7989",
        "_uuid": "b2f662728eb4664d2e092b4af1606b7b512d8368",
        "collapsed": true,
        "trusted": true
      },
      "cell_type": "code",
      "source": "def createfolder(pathandname):\n    \"\"\"\"\" Given a path ending with the directory's name to be created as the input to \n    this function, a folder with that name is created \"\"\"\"\"\n    get2working() # ensure that the current directory is the working directory\n    try:\n        os.mkdir(pathandname) # make the desired directory\n        print('Folder created')\n    except FileExistsError:\n        print('Folder already exists so command ignored') # ignore if the directory already exits",
      "execution_count": 10,
      "outputs": []
    },
    {
      "metadata": {
        "_uuid": "72a79421687d4d5c5fbf730568a9b0f99bda40be"
      },
      "cell_type": "markdown",
      "source": "Now using the above functions and the paths and directory names already defined, we create the required directories."
    },
    {
      "metadata": {
        "_cell_guid": "718e132f-ab38-402c-a945-1136865897d5",
        "_uuid": "f64541201bcea7b964f370e0536ecdba0904259a",
        "trusted": true
      },
      "cell_type": "code",
      "source": "createfolder(validationPathDest)\ncreatefolder(testPathDest)\ncreatefolder(trainPathDest)",
      "execution_count": 11,
      "outputs": [
        {
          "output_type": "stream",
          "text": "Folder created\nFolder created\nFolder created\n",
          "name": "stdout"
        }
      ]
    },
    {
      "metadata": {
        "_uuid": "ed449ac1c2c4f6f74b6fa1e7ab7a34a144edc61e"
      },
      "cell_type": "markdown",
      "source": "# Splitting the test data into validation and test set.\nNow we are ready to access the input test data and copy some data from it to the created test folder in our working directory. The contents of this directory will serve as the test data for our model. We will copy the remaining data in the input validation directory to the created validation folder in our working directory. This will serve as the validation data on which we will validate our models"
    },
    {
      "metadata": {
        "_uuid": "1c8504a863f96a67da51731e12410718c8023253"
      },
      "cell_type": "markdown",
      "source": "But, before splitting the data in this way we need to know that no class of fruits (sub-directories in the 'Training' and 'Testing') has zero images. This will also inform us about the number of training and validation images.\nTo do this we will create two dictionaries with keys =  class of a fruit and values = the number of fruits in that class. We will then convert these dictionaries to a pandas dataframe and inspect the dataframe. The purpose of creatiing the dataframe is to make the output easily readable. Also we can check for zero or null values in a dataframe easily.\nThe following code is used for the achievement of the above described goals."
    },
    {
      "metadata": {
        "trusted": true,
        "_uuid": "d50285c424f0e9023512a3ec238d44eaccf74eea"
      },
      "cell_type": "code",
      "source": "test_dict = {} # empty dictionary to store validation data\ntrain_dict = {} # empty dictionary to store training data\nfruit_numbers = {} # empty dictionary to store the above defined 2 dictionaries\nget2working() # ensure that the current directory is the working directory\n\nfor classes in os.listdir(validationPathSource): # looping over the subdirectories in the validationPath (this can be changed to trainPathSource too as it will make no difference to the result)\n    # calculating number of fruits\n    test_dict[classes] = len(os.listdir(os.path.join(validationPathSource,classes))) \n    train_dict[classes] = len(os.listdir(os.path.join(trainPathSource,classes)))\n\nfruit_numbers['Test'] = test_dict # assigning val_dict to 'Validation' key\nfruit_numbers['Training'] = train_dict # assigning test_dict to 'Training' key\n\ndf_fruit_numbers = pd.DataFrame.from_dict(fruit_numbers) # creating a dataframe from fruit_numbers\nprint(df_fruit_numbers) # visualizing the dataframe\n\n# making sure that no values are null or zero. The following code should not print empty dataframes\nprint(df_fruit_numbers[(df_fruit_numbers.Training == 0)])\nprint(df_fruit_numbers[(df_fruit_numbers.Training == np.nan)])\nprint(df_fruit_numbers[(df_fruit_numbers.Test == 0)])\nprint(df_fruit_numbers[(df_fruit_numbers.Test == np.nan)])                  ",
      "execution_count": 12,
      "outputs": [
        {
          "output_type": "stream",
          "text": "                     Test  Training\nApple Braeburn        164       492\nApple Golden 1        164       492\nApple Golden 2        164       492\nApple Golden 3        161       481\nApple Granny Smith    164       492\nApple Red 1           164       492\nApple Red 2           164       492\nApple Red 3           144       429\nApple Red Delicious   166       490\nApple Red Yellow      164       492\nApricot               164       492\nAvocado               143       427\nAvocado ripe          166       491\nBanana                166       490\nBanana Red            166       490\nCactus fruit          166       490\nCantaloupe 1          164       492\nCantaloupe 2          164       492\nCarambula             166       490\nCherry 1              164       492\nCherry 2              246       738\nCherry Rainier        246       738\nCherry Wax Black      164       492\nCherry Wax Red        164       492\nCherry Wax Yellow     164       492\nClementine            166       490\nCocos                 166       490\nDates                 166       490\nGranadilla            166       490\nGrape Pink            164       492\n...                   ...       ...\nMaracuja              166       490\nMelon Piel de Sapo    246       738\nMulberry              164       492\nNectarine             164       492\nOrange                160       479\nPapaya                164       492\nPassion Fruit         166       490\nPeach                 164       492\nPeach Flat            164       492\nPear                  164       492\nPear Abate            166       490\nPear Monster          166       490\nPear Williams         166       490\nPepino                166       490\nPhysalis              164       492\nPhysalis with Husk    164       492\nPineapple             166       490\nPineapple Mini        163       493\nPitahaya Red          166       490\nPlum                  151       447\nPomegranate           164       492\nQuince                166       490\nRambutan              164       492\nRaspberry             166       490\nSalak                 162       490\nStrawberry            164       492\nStrawberry Wedge      246       738\nTamarillo             166       490\nTangelo               166       490\nWalnut                249       735\n\n[75 rows x 2 columns]\nEmpty DataFrame\nColumns: [Test, Training]\nIndex: []\nEmpty DataFrame\nColumns: [Test, Training]\nIndex: []\nEmpty DataFrame\nColumns: [Test, Training]\nIndex: []\nEmpty DataFrame\nColumns: [Test, Training]\nIndex: []\n",
          "name": "stdout"
        }
      ]
    },
    {
      "metadata": {
        "_uuid": "acf1d79d2a354c68cb308040ad9bbb2c5f29e176"
      },
      "cell_type": "markdown",
      "source": "### Important insights from the dataframe:    \nNo folder is empty. If we had an empty folder we would have made a note of it BUT **wouldn't have deleted it. We would have deleted it after we had split our data. The reason being, the source data can be updated any time. An empty folder today can contain images tomorrow.** So if we delete a folder at this step the same folder can contain images when the data set is updated.        "
    },
    {
      "metadata": {
        "_uuid": "74d2cf6ee2c295368a9b5ffc26bf18b706583bf5"
      },
      "cell_type": "markdown",
      "source": "Let's save the data frame to a csv file"
    },
    {
      "metadata": {
        "trusted": true,
        "_uuid": "bb705ae6c8ab50d57710fff3dd2605a568e3fb73",
        "collapsed": true
      },
      "cell_type": "code",
      "source": "df_fruit_numbers.to_csv('FruitNumbers.csv') ",
      "execution_count": 13,
      "outputs": []
    },
    {
      "metadata": {
        "_uuid": "760acadb031eb0541ad5cce1a84a6db5a189a1ed"
      },
      "cell_type": "markdown",
      "source": "Now we can split the validation data by copying 25% of the data to the created test folder and the remaining data to the created validation folder."
    },
    {
      "metadata": {
        "_cell_guid": "d66adbca-feff-49ed-9307-f2e79323444c",
        "_uuid": "24821a6db912d89d717e34887938d7ce8a67cc31",
        "trusted": true,
        "collapsed": true
      },
      "cell_type": "code",
      "source": "get2working() # Changing path to working directory\nos.chdir(validationPathSource) # Changing path to input training folder\nfruitnames = [file for file in os.listdir()]; # Storing names of fruits (sub folders within the training folder) in a list\n\n# Looping over the list of fruit names\nfor fruit in fruitnames:\n    get2working() # Changing path to working directory\n    validationpath = os.path.join(validationPathDest,fruit) # Creating path for a specifc fruit for the output validation folder\n    testpath = os.path.join(testPathDest,fruit) # Creating path for a specifc fruit for the output test folder\n    trainpath = os.path.join(trainPathDest,fruit) # Creating path for a specifc fruit for the output training folder\n    \n    sourcepath = os.path.join(validationPathSource,fruit) # Creating path for a specifc fruit for the source validation folder\n    sourcepathtrain = os.path.join(trainPathSource,fruit) # Creating path for a specifc fruit for the source training folder\n    \n    os.mkdir(testpath) # Creating a folder for a specific fruit in the test directory\n    os.mkdir(validationpath) # Creating a folder for a specific fruit in the validation directory\n    os.mkdir(trainpath) # Creating a folder for a specific fruit in the training directory\n    \n    os.chdir(sourcepath) # Changing path to the source directory\n    randomsample = random.sample(os.listdir(),len(os.listdir())) # Sampling random fruit images for a certain fruit\n    \n    get2working() # Changing path to the working directory\n    # Copying the first 25% fruit images from the source folder (randomaly sampled already) and copying them to the test folder \n    for k in range(0,len(randomsample)//4):\n        shutil.copy(os.path.join(sourcepath,randomsample[k]),testpath)\n    \n    # Copying the rest of fruit images from the source folder (randomaly sampled already) and copying them to the validation folder\n    for k in range(len(randomsample)//4,len(randomsample)):\n        shutil.copy(os.path.join(sourcepath,randomsample[k]),validationpath)\n    \n    # Copying all images from source training folder to the training folder in the working directory\n    os.chdir(sourcepathtrain) # Changing path to the source training directory\n    name_images = os.listdir()\n    \n    get2working() # Changing path to the working directory\n    for k in range(0,len(name_images)):\n        shutil.copy(os.path.join(sourcepathtrain,name_images[k]),trainpath)",
      "execution_count": 14,
      "outputs": []
    },
    {
      "metadata": {
        "_uuid": "70a8d783e18854e10196ccfe8241ab580fa77f0e"
      },
      "cell_type": "markdown",
      "source": "Now that we have split the data set, we can compress and write it. We can also remove the uncompressed folders."
    },
    {
      "metadata": {
        "trusted": true,
        "_uuid": "c40ec1996a90e7c2bd7015837708279cb0c9ee44",
        "collapsed": true
      },
      "cell_type": "code",
      "source": "# Compressing output folders to zip files\nshutil.make_archive('Validation', 'zip',os.getcwd(), validationPathDest)\nshutil.make_archive('Testing', 'zip',os.getcwd(), testPathDest)\nshutil.make_archive('Training', 'zip',os.getcwd(), trainPathDest)\n# Removing uncompressed output folders\nshutil.rmtree(validationPathDest)\nshutil.rmtree(testPathDest)\nshutil.rmtree(trainPathDest);",
      "execution_count": 15,
      "outputs": []
    },
    {
      "metadata": {
        "trusted": true,
        "_uuid": "100b983b34b96ad2cebfcc2fab54c0db120948da"
      },
      "cell_type": "code",
      "source": "# making sure that the data has been written\nos.listdir()",
      "execution_count": 16,
      "outputs": [
        {
          "output_type": "execute_result",
          "execution_count": 16,
          "data": {
            "text/plain": "['.ipynb_checkpoints',\n '__notebook_source__.ipynb',\n 'Testing.zip',\n 'Validation.zip',\n 'FruitNumbers.csv',\n 'Training.zip']"
          },
          "metadata": {}
        }
      ]
    },
    {
      "metadata": {
        "_uuid": "c7c43d5b73d5a647bb0cce154e5f088684e5d9eb"
      },
      "cell_type": "markdown",
      "source": "This will be the last step of this part of the project. At the end we will have a .csv file containg the number of fruits in the data set and three folder containing training, testing and validation dataset. We have also made sure that no data is missing and gone over the basics of navigating directories when working in a kaggle kernel. In the next part of the project we will explore the data further. We will visualize the number of fruits in different classes in different sets. We will also visualize different fruits to see how the data looks. Lastly, we will also calculate some parameters that will be used when we build the convolution neural network."
    }
  ],
  "metadata": {
    "kernelspec": {
      "display_name": "Python 3",
      "language": "python",
      "name": "python3"
    },
    "language_info": {
      "codemirror_mode": {
        "name": "ipython",
        "version": 3
      },
      "file_extension": ".py",
      "mimetype": "text/x-python",
      "name": "python",
      "nbconvert_exporter": "python",
      "pygments_lexer": "ipython3",
      "version": "3.6.5"
    }
  },
  "nbformat": 4,
  "nbformat_minor": 1
}