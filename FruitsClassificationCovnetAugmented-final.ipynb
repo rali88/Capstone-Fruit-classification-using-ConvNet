{
 "cells": [
  {
   "cell_type": "markdown",
   "metadata": {
    "_uuid": "087877e4abfeb73e449a0f54ed725c7d6f5b1e63"
   },
   "source": [
    "# Using convolution neural network with augmentation to classify fruits\n",
    "We will use keras library to build a convolution neural network with augmentation to classify fruits into different categories. "
   ]
  },
  {
   "cell_type": "markdown",
   "metadata": {
    "_uuid": "1b223ab914b769a3a8b591fb22cb1e7b73e51d01"
   },
   "source": [
    "## Importing required packages"
   ]
  },
  {
   "cell_type": "code",
   "execution_count": 1,
   "metadata": {
    "_cell_guid": "b1076dfc-b9ad-4769-8c92-a6c4dae69d19",
    "_uuid": "8f2839f25d086af736a60e9eeb907d3b93b6e0e5"
   },
   "outputs": [
    {
     "name": "stderr",
     "output_type": "stream",
     "text": [
      "/opt/conda/lib/python3.6/site-packages/h5py/__init__.py:36: FutureWarning: Conversion of the second argument of issubdtype from `float` to `np.floating` is deprecated. In future, it will be treated as `np.float64 == np.dtype(float).type`.\n",
      "  from ._conv import register_converters as _register_converters\n",
      "Using TensorFlow backend.\n"
     ]
    }
   ],
   "source": [
    "import numpy as np # linear algebra\n",
    "import matplotlib.pyplot as plt\n",
    "# keras for deep learning\n",
    "from keras import layers \n",
    "from keras import models \n",
    "from keras import optimizers \n",
    "from keras.preprocessing.image import ImageDataGenerator \n",
    "import os, random, shutil # directory operations"
   ]
  },
  {
   "cell_type": "markdown",
   "metadata": {
    "_uuid": "9ccde57f7bdb6c26c4a9b1f7a089e26c4a6163ac"
   },
   "source": [
    "## Setting path location for validation, training and testing images and creating folders in the working directory."
   ]
  },
  {
   "cell_type": "markdown",
   "metadata": {
    "_uuid": "70e00c640239dcbe2e7c0a36f612d1479bee1ecf"
   },
   "source": [
    "We need to specify the location where the data exists. We will also specify different paths for training and testing data sets as the original dataset is not split into training and test dataset. These paths need to be in our working directory."
   ]
  },
  {
   "cell_type": "code",
   "execution_count": 2,
   "metadata": {
    "_cell_guid": "79c7e3d0-c299-4dcb-8224-4455121ee9b0",
    "_uuid": "d629ff2d2480ee46fbb7e2d37f6b5fab8052498a",
    "collapsed": true
   },
   "outputs": [],
   "source": [
    "validationPath = '../input/fruits-360_dataset_2018_06_03/fruits-360/Validation'\n",
    "trainPathSource = '../input/fruits-360_dataset_2018_06_03/fruits-360/Training'\n",
    "trainPathDest = '../working/Training'\n",
    "testPathDest = '../working/Test'"
   ]
  },
  {
   "cell_type": "markdown",
   "metadata": {
    "_uuid": "2ccf6b7724e45283a0099a7a377c3468e77b6302"
   },
   "source": [
    "As we will be navigating directories alot, it will be much easier to create a function which gets us to the working directory."
   ]
  },
  {
   "cell_type": "code",
   "execution_count": 3,
   "metadata": {
    "_cell_guid": "71d63d44-c2b2-4055-bdd1-eed9390258f2",
    "_uuid": "f03eb2d32029d64412b5baa3c7ead827180609d5",
    "collapsed": true
   },
   "outputs": [],
   "source": [
    "def get2working():\n",
    "    while True:\n",
    "        if os.getcwd() == '/kaggle/working':\n",
    "            break\n",
    "        elif os.getcwd() == '/':\n",
    "            os.chdir('kaggle/working')\n",
    "        else:\n",
    "            os.chdir('..')"
   ]
  },
  {
   "cell_type": "markdown",
   "metadata": {
    "_uuid": "a91da12665ee3d85c0fe8e54805de516febaecde"
   },
   "source": [
    "Another function that will help us is for creation of folders given a path as the input to this function."
   ]
  },
  {
   "cell_type": "code",
   "execution_count": 4,
   "metadata": {
    "_cell_guid": "78b82564-c24f-4a61-801f-5caa1c8d7989",
    "_uuid": "b2f662728eb4664d2e092b4af1606b7b512d8368",
    "collapsed": true
   },
   "outputs": [],
   "source": [
    "def createfolder(pathandname):\n",
    "    get2working()\n",
    "    try:\n",
    "        os.mkdir(pathandname)\n",
    "        print('Folder created')\n",
    "    except FileExistsError:\n",
    "        print('Folder already exists so command ignored')"
   ]
  },
  {
   "cell_type": "markdown",
   "metadata": {
    "_uuid": "72a79421687d4d5c5fbf730568a9b0f99bda40be"
   },
   "source": [
    "Now let's create folders for training and testing data in our working directory. We will store training and testing data in these directories. These need to be created in the working directory as kaggle only allows us to write to this directory."
   ]
  },
  {
   "cell_type": "code",
   "execution_count": 5,
   "metadata": {
    "_cell_guid": "718e132f-ab38-402c-a945-1136865897d5",
    "_uuid": "f64541201bcea7b964f370e0536ecdba0904259a"
   },
   "outputs": [
    {
     "name": "stdout",
     "output_type": "stream",
     "text": [
      "Folder created\n",
      "Folder created\n"
     ]
    }
   ],
   "source": [
    "createfolder(testPathDest)\n",
    "createfolder(trainPathDest)"
   ]
  },
  {
   "cell_type": "markdown",
   "metadata": {
    "_uuid": "ed449ac1c2c4f6f74b6fa1e7ab7a34a144edc61e"
   },
   "source": [
    "# Splitting the training data into training and test set.\n",
    "Now we are ready to access the input directory training data and copy some data from it to the created test folder in our working directory and copying the rest to the training folder in our working directory."
   ]
  },
  {
   "cell_type": "code",
   "execution_count": 6,
   "metadata": {
    "_cell_guid": "d66adbca-feff-49ed-9307-f2e79323444c",
    "_uuid": "24821a6db912d89d717e34887938d7ce8a67cc31",
    "collapsed": true
   },
   "outputs": [],
   "source": [
    "get2working() # Changing path to working directory\n",
    "os.chdir(trainPathSource) # Changing path to input training folder\n",
    "fruitnames = [file for file in os.listdir()]; # Storing names of fruits (sub folders within the training folder) in a list\n",
    "# Looping over the list of fruit names\n",
    "for fruit in fruitnames:\n",
    "    get2working() # Changing path to working directory\n",
    "    testpath = os.path.join(testPathDest,fruit) # Creating path for a specifc fruit for the output test folder\n",
    "    trainpath = os.path.join(trainPathDest,fruit) # Creating path for a specifc fruit for the output training folder\n",
    "    sourcepath = os.path.join(trainPathSource,fruit)  # Creating path for a specifc fruit for the source folder\n",
    "    os.mkdir(testpath) # Creating a folder for a specific fruit in the test directory\n",
    "    os.mkdir(trainpath) # Creating a folder for a specific fruit in the training directory\n",
    "    os.chdir(sourcepath) # Changing path to the source directory\n",
    "    randomsample = random.sample(os.listdir(),len(os.listdir())) # Sampling random fruit images for a certain fruit\n",
    "    get2working() # Changing path to the working directory\n",
    "    # Copying the first 25% fruit images from the source folder (randomaly sampled already) and copying them to the test folder \n",
    "    for k in range(0,len(randomsample)//4):\n",
    "        shutil.copy(os.path.join(sourcepath,randomsample[k]),testpath)\n",
    "    # Copying the rest of fruit images from the source folder (randomaly sampled already) and copying them to the training folder\n",
    "    for k in range(len(randomsample)//4,len(randomsample)):\n",
    "        shutil.copy(os.path.join(sourcepath,randomsample[k]),trainpath)"
   ]
  },
  {
   "cell_type": "markdown",
   "metadata": {
    "_uuid": "d450b9d3050b8d3b8b8a7b72be68594e0d46085f"
   },
   "source": [
    "## Building and compiling the convolution neural network\n",
    "Now that our data has been split into training and test sets, we can build our covnet. We will use a number of convolution + max pooling layers. At the end we will add a flatten layer and a drop out layer followed by a dense layer. Lastly, as we have multiple classification labels we will use sofmax activation for our output layer and the size of the output will be set to the length of the fruitnames list we generated in the last part. We do this as the dataset is constantly being updated with new classes. "
   ]
  },
  {
   "cell_type": "markdown",
   "metadata": {
    "_uuid": "9f6c97f3ebe7c1ad290e3c55abe49e5a281b55a9"
   },
   "source": [
    "Building the covnet"
   ]
  },
  {
   "cell_type": "code",
   "execution_count": 7,
   "metadata": {
    "_cell_guid": "b6fb6bb0-487b-43b9-b4b6-e8e1618f8c2b",
    "_uuid": "3a33719f1e5a993f7bff7643ca59c944cba54b62",
    "collapsed": true
   },
   "outputs": [],
   "source": [
    "model = models.Sequential()\n",
    "model.add(layers.Conv2D(32, (3, 3), \n",
    "                        activation='relu', \n",
    "                        input_shape=(150, 150, 3)))\n",
    "model.add(layers.MaxPooling2D((2, 2)))\n",
    "model.add(layers.Conv2D(64, (3, 3), \n",
    "                        activation='relu'))\n",
    "model.add(layers.MaxPooling2D((2, 2)))\n",
    "model.add(layers.Conv2D(128, (3, 3), \n",
    "                        activation='relu'))\n",
    "model.add(layers.MaxPooling2D((2, 2)))\n",
    "model.add(layers.Conv2D(128, (3, 3), \n",
    "                        activation='relu'))\n",
    "model.add(layers.MaxPooling2D((2, 2)))\n",
    "model.add(layers.Flatten()) # adding a flatten layer and a dropout layer\n",
    "model.add(layers.Dropout(0.5)) # adding a dropout layer\n",
    "model.add(layers.Dense(512, \n",
    "                       activation='relu')) # adding a dense layer\n",
    "model.add(layers.Dense(len(fruitnames), \n",
    "                       activation='softmax')) # adding the final layer with 60 outputs(target size) and softmax activation"
   ]
  },
  {
   "cell_type": "code",
   "execution_count": 8,
   "metadata": {
    "_cell_guid": "ed4f96ba-e612-4768-9750-084137b06ec1",
    "_uuid": "173b7eb8130ca4728738614fd507a817bb326333"
   },
   "outputs": [
    {
     "name": "stdout",
     "output_type": "stream",
     "text": [
      "_________________________________________________________________\n",
      "Layer (type)                 Output Shape              Param #   \n",
      "=================================================================\n",
      "conv2d_1 (Conv2D)            (None, 148, 148, 32)      896       \n",
      "_________________________________________________________________\n",
      "max_pooling2d_1 (MaxPooling2 (None, 74, 74, 32)        0         \n",
      "_________________________________________________________________\n",
      "conv2d_2 (Conv2D)            (None, 72, 72, 64)        18496     \n",
      "_________________________________________________________________\n",
      "max_pooling2d_2 (MaxPooling2 (None, 36, 36, 64)        0         \n",
      "_________________________________________________________________\n",
      "conv2d_3 (Conv2D)            (None, 34, 34, 128)       73856     \n",
      "_________________________________________________________________\n",
      "max_pooling2d_3 (MaxPooling2 (None, 17, 17, 128)       0         \n",
      "_________________________________________________________________\n",
      "conv2d_4 (Conv2D)            (None, 15, 15, 128)       147584    \n",
      "_________________________________________________________________\n",
      "max_pooling2d_4 (MaxPooling2 (None, 7, 7, 128)         0         \n",
      "_________________________________________________________________\n",
      "flatten_1 (Flatten)          (None, 6272)              0         \n",
      "_________________________________________________________________\n",
      "dropout_1 (Dropout)          (None, 6272)              0         \n",
      "_________________________________________________________________\n",
      "dense_1 (Dense)              (None, 512)               3211776   \n",
      "_________________________________________________________________\n",
      "dense_2 (Dense)              (None, 65)                33345     \n",
      "=================================================================\n",
      "Total params: 3,485,953\n",
      "Trainable params: 3,485,953\n",
      "Non-trainable params: 0\n",
      "_________________________________________________________________\n"
     ]
    }
   ],
   "source": [
    "# Checking the model architecture\n",
    "model.summary()"
   ]
  },
  {
   "cell_type": "markdown",
   "metadata": {
    "_uuid": "e40b20cdc9d64995ab4d3107816e9c8d303271fc"
   },
   "source": [
    "Now we compile the model using accuracy as our metric and categorical crossentropy as the loss function as we have multiple classes."
   ]
  },
  {
   "cell_type": "code",
   "execution_count": 9,
   "metadata": {
    "_cell_guid": "0206eea7-3b90-47f4-ad86-19318e3b3c83",
    "_uuid": "2ed9683ffd51f9c89d7e0a401c55b067ba0f7c1f",
    "collapsed": true
   },
   "outputs": [],
   "source": [
    "# Compiling the model with categorical crossentropy for multiclass labels\n",
    "model.compile(loss='categorical_crossentropy',\n",
    "              optimizer=optimizers.RMSprop(lr=1e-4),\n",
    "              metrics=['acc'])"
   ]
  },
  {
   "cell_type": "markdown",
   "metadata": {
    "_uuid": "bb94372d79c95e718c54daedd7fdb477e9b0a030"
   },
   "source": [
    "# Getting data ready for fitting to the model.\n",
    "We will use ImageDataGenerator to get the data ready for input to our model. Importantly, we will add image rotation, shear etc for augmentation. Another important point is to ensure that this transformation is not performed for the test and validation images. "
   ]
  },
  {
   "cell_type": "code",
   "execution_count": 10,
   "metadata": {
    "_cell_guid": "979bc669-2614-4e25-8c67-cc975b4e72ab",
    "_uuid": "8841478817d314ca00c68f0984745be994a39ce6",
    "collapsed": true
   },
   "outputs": [],
   "source": [
    "# Making an image data generator object with no augmentation for validation and testing\n",
    "test_datagen = ImageDataGenerator(rescale=1./255)"
   ]
  },
  {
   "cell_type": "code",
   "execution_count": 11,
   "metadata": {
    "_cell_guid": "79197e64-b962-4eaf-8d09-2b71ca9e0877",
    "_uuid": "bdd609d129e62022bf0d21923bb627ce924d8f77",
    "collapsed": true
   },
   "outputs": [],
   "source": [
    "# Making an image data generator object with augmentation for training\n",
    "train_datagen = ImageDataGenerator(rescale=1./255,\n",
    "                                   rotation_range=40,\n",
    "                                   width_shift_range=0.2,\n",
    "                                   height_shift_range=0.2,\n",
    "                                   shear_range=0.2,\n",
    "                                   zoom_range=0.2,\n",
    "                                   horizontal_flip=True,\n",
    "                                   fill_mode='nearest')"
   ]
  },
  {
   "cell_type": "code",
   "execution_count": 12,
   "metadata": {
    "_uuid": "2489d89692a0b37ea960a39fdbdd4d24a5477c2d"
   },
   "outputs": [
    {
     "name": "stdout",
     "output_type": "stream",
     "text": [
      "Found 24342 images belonging to 65 classes.\n"
     ]
    }
   ],
   "source": [
    "# Using the generator with batch size 32 for training directory with augmentation\n",
    "train_generator = test_datagen.flow_from_directory(trainPathDest,\n",
    "                                                        target_size=(150, 150),\n",
    "                                                        batch_size=32,\n",
    "                                                        class_mode='categorical')"
   ]
  },
  {
   "cell_type": "code",
   "execution_count": 13,
   "metadata": {
    "_cell_guid": "c2ced972-772e-4e60-9f06-b7d4f2461412",
    "_uuid": "69e81ad65f92d48a1a0283ed1dfd90c0baa3348e"
   },
   "outputs": [
    {
     "name": "stdout",
     "output_type": "stream",
     "text": [
      "Found 10903 images belonging to 65 classes.\n"
     ]
    }
   ],
   "source": [
    "# Using the generator with batch size 17 for validation directory\n",
    "validation_generator = test_datagen.flow_from_directory(validationPath,\n",
    "                                                        target_size=(150, 150),\n",
    "                                                        batch_size=17,\n",
    "                                                        class_mode='categorical')"
   ]
  },
  {
   "cell_type": "markdown",
   "metadata": {
    "_uuid": "dad851ed04845cd5e36ea6dd13b28ddd57e4fd41"
   },
   "source": [
    "## Fitting the model\n",
    "Now we are ready to fit the model. We need to calculate 2 numbers: steps_per_epoch and validation_steps. We calculate these by dividing the total number of images by the batch size and rounding off to the smallest value. For steps_per_epoch this will be np.floor(number of training images / training batch size) and for validation_steps this will be np.floor(number of validation images / validation batch size)"
   ]
  },
  {
   "cell_type": "code",
   "execution_count": 14,
   "metadata": {
    "_uuid": "f660d248704f0c338154caa198f7e30ab87622d2",
    "collapsed": true
   },
   "outputs": [],
   "source": [
    "steps_per_epoch = np.floor(24342/32).astype(int)\n",
    "validation_steps = np.floor(10903/17).astype(int)"
   ]
  },
  {
   "cell_type": "code",
   "execution_count": 15,
   "metadata": {
    "_cell_guid": "8bb4ea71-d619-45d7-9c8b-9777acb1acb9",
    "_uuid": "fd2cea32c7feeb191dc9aa43e8a13f27d231c3d6"
   },
   "outputs": [
    {
     "name": "stdout",
     "output_type": "stream",
     "text": [
      "Epoch 1/25\n",
      "760/760 [==============================] - 72s 94ms/step - loss: 1.2786 - acc: 0.6326 - val_loss: 0.5005 - val_acc: 0.8467\n",
      "Epoch 2/25\n",
      "760/760 [==============================] - 58s 76ms/step - loss: 0.1976 - acc: 0.9380 - val_loss: 0.3572 - val_acc: 0.9135\n",
      "Epoch 3/25\n",
      "760/760 [==============================] - 58s 76ms/step - loss: 0.0871 - acc: 0.9730 - val_loss: 0.3041 - val_acc: 0.9186\n",
      "Epoch 4/25\n",
      "760/760 [==============================] - 58s 76ms/step - loss: 0.0568 - acc: 0.9835 - val_loss: 0.1859 - val_acc: 0.9397\n",
      "Epoch 5/25\n",
      "760/760 [==============================] - 59s 77ms/step - loss: 0.0424 - acc: 0.9869 - val_loss: 0.1581 - val_acc: 0.9518\n",
      "Epoch 6/25\n",
      "760/760 [==============================] - 58s 77ms/step - loss: 0.0378 - acc: 0.9881 - val_loss: 0.1266 - val_acc: 0.9638\n",
      "Epoch 7/25\n",
      "760/760 [==============================] - 60s 79ms/step - loss: 0.0280 - acc: 0.9905 - val_loss: 0.1314 - val_acc: 0.9614\n",
      "Epoch 8/25\n",
      "760/760 [==============================] - 58s 76ms/step - loss: 0.0266 - acc: 0.9909 - val_loss: 0.1485 - val_acc: 0.9622\n",
      "Epoch 9/25\n",
      "760/760 [==============================] - 58s 76ms/step - loss: 0.0233 - acc: 0.9910 - val_loss: 0.1359 - val_acc: 0.9624\n",
      "Epoch 10/25\n",
      "760/760 [==============================] - 59s 77ms/step - loss: 0.0212 - acc: 0.9921 - val_loss: 0.1160 - val_acc: 0.9663\n",
      "Epoch 11/25\n",
      "760/760 [==============================] - 58s 76ms/step - loss: 0.0198 - acc: 0.9917 - val_loss: 0.1428 - val_acc: 0.9608\n",
      "Epoch 12/25\n",
      "760/760 [==============================] - 59s 78ms/step - loss: 0.0188 - acc: 0.9921 - val_loss: 0.1178 - val_acc: 0.9624\n",
      "Epoch 13/25\n",
      "760/760 [==============================] - 59s 78ms/step - loss: 0.0168 - acc: 0.9927 - val_loss: 0.1325 - val_acc: 0.9614\n",
      "Epoch 14/25\n",
      "760/760 [==============================] - 59s 78ms/step - loss: 0.0167 - acc: 0.9923 - val_loss: 0.1283 - val_acc: 0.9640\n",
      "Epoch 15/25\n",
      "760/760 [==============================] - 58s 76ms/step - loss: 0.0162 - acc: 0.9931 - val_loss: 0.1052 - val_acc: 0.9679\n",
      "Epoch 16/25\n",
      "760/760 [==============================] - 59s 77ms/step - loss: 0.0154 - acc: 0.9925 - val_loss: 0.1242 - val_acc: 0.9671\n",
      "Epoch 17/25\n",
      "760/760 [==============================] - 58s 76ms/step - loss: 0.0150 - acc: 0.9928 - val_loss: 0.0940 - val_acc: 0.9645\n",
      "Epoch 18/25\n",
      "760/760 [==============================] - 58s 76ms/step - loss: 0.0148 - acc: 0.9922 - val_loss: 0.1128 - val_acc: 0.9663\n",
      "Epoch 19/25\n",
      "760/760 [==============================] - 59s 77ms/step - loss: 0.0135 - acc: 0.9930 - val_loss: 0.0996 - val_acc: 0.9683\n",
      "Epoch 20/25\n",
      "760/760 [==============================] - 58s 77ms/step - loss: 0.0138 - acc: 0.9927 - val_loss: 0.0935 - val_acc: 0.9709\n",
      "Epoch 21/25\n",
      "760/760 [==============================] - 58s 76ms/step - loss: 0.0136 - acc: 0.9930 - val_loss: 0.1007 - val_acc: 0.9678\n",
      "Epoch 22/25\n",
      "760/760 [==============================] - 58s 76ms/step - loss: 0.0135 - acc: 0.9923 - val_loss: 0.0918 - val_acc: 0.9699\n",
      "Epoch 23/25\n",
      "760/760 [==============================] - 58s 76ms/step - loss: 0.0134 - acc: 0.9932 - val_loss: 0.1110 - val_acc: 0.9672\n",
      "Epoch 24/25\n",
      "760/760 [==============================] - 60s 79ms/step - loss: 0.0130 - acc: 0.9931 - val_loss: 0.1186 - val_acc: 0.9722\n",
      "Epoch 25/25\n",
      "760/760 [==============================] - 58s 77ms/step - loss: 0.0124 - acc: 0.9931 - val_loss: 0.1752 - val_acc: 0.9646\n"
     ]
    }
   ],
   "source": [
    "# Fitting the model using the train_generator\n",
    "history = model.fit_generator(train_generator,\n",
    "                              steps_per_epoch=steps_per_epoch,\n",
    "                              epochs=25,\n",
    "                              validation_data=validation_generator,\n",
    "                              validation_steps=validation_steps)"
   ]
  },
  {
   "cell_type": "markdown",
   "metadata": {
    "_uuid": "4e552c892fa2606531a26f4d477280569257748a"
   },
   "source": [
    "## Saving and plotting\n",
    "We will now save the model. This is important as we can use this model to train related images, for example images of vegetables. As the features for fruits and vegetables are similar we can freeze the top most layers and train the model on vegetables. This will save alot of training time and will require a smaller number of samples. We also need to plot loos and accuracy vs epoch to test for overfitting."
   ]
  },
  {
   "cell_type": "code",
   "execution_count": 16,
   "metadata": {
    "_cell_guid": "ee87c2df-3275-4682-8171-0e42d13b6ebf",
    "_uuid": "1c5f1fb1052e54e01ee05fb2ab3ec5d617e8dce9",
    "collapsed": true
   },
   "outputs": [],
   "source": [
    "# Saving the model\n",
    "model.save('Fruit_classification_covnet_augmented_test_split.h5')"
   ]
  },
  {
   "cell_type": "code",
   "execution_count": 17,
   "metadata": {
    "_cell_guid": "8a594675-c942-42d2-b65f-489bc9ffbef2",
    "_uuid": "a385aae0592b971d8b959e604f6b637e78c1b581"
   },
   "outputs": [
    {
     "data": {
      "image/png": "[encoded data removed]",
      "text/plain": [
       "<matplotlib.figure.Figure at 0x7f127cbac208>"
      ]
     },
     "metadata": {},
     "output_type": "display_data"
    },
    {
     "data": {
      "image/png": "[encoded data removed]",
      "text/plain": [
       "<matplotlib.figure.Figure at 0x7f123e022a90>"
      ]
     },
     "metadata": {},
     "output_type": "display_data"
    }
   ],
   "source": [
    "# Plotting loss and accuracy for validation and training data\n",
    "acc = np.array(history.history['acc'])*100\n",
    "val_acc = np.array(history.history['val_acc'])*100\n",
    "loss = history.history['loss']\n",
    "val_loss = history.history['val_loss']\n",
    "epochs = range(1, len(acc) + 1)\n",
    "plt.plot(epochs, acc, 'bo', label='Training acc')\n",
    "plt.plot(epochs, val_acc, 'b', label='Validation acc')\n",
    "plt.title('Training and validation accuracy')\n",
    "plt.xlabel('Epoch number')\n",
    "plt.ylabel('Accuracy (%)')\n",
    "plt.legend()\n",
    "plt.figure()\n",
    "plt.plot(epochs, loss, 'bo', label='Training loss')\n",
    "plt.plot(epochs, val_loss, 'b', label='Validation loss')\n",
    "plt.title('Training and validation loss')\n",
    "plt.legend()\n",
    "plt.show()"
   ]
  },
  {
   "cell_type": "code",
   "execution_count": 18,
   "metadata": {
    "_cell_guid": "53928af4-a89a-4fa6-b36d-4b7bf3f816cb",
    "_uuid": "cbf2dc13dac44ac47dfbe1186667482063427de1"
   },
   "outputs": [
    {
     "name": "stdout",
     "output_type": "stream",
     "text": [
      "Validation accuracy at the last epoch is: 96.45774087370279 %\n"
     ]
    }
   ],
   "source": [
    "print('Validation accuracy at the last epoch is: {} %'.format(val_acc[-1]))"
   ]
  },
  {
   "cell_type": "markdown",
   "metadata": {
    "_uuid": "f04f7bd59255e247a0082630402c29a5439a4124"
   },
   "source": [
    "## Model results \n",
    "The model gives us a validation accuaracy of 97.4%. Moreover, the plots show that we do not get any overfiting. Now it's time to test the model on the test data set."
   ]
  },
  {
   "cell_type": "code",
   "execution_count": 19,
   "metadata": {
    "_uuid": "52f78c14690c74b7a15f9de553ea7dba4efa1edd"
   },
   "outputs": [
    {
     "name": "stdout",
     "output_type": "stream",
     "text": [
      "Found 8084 images belonging to 65 classes.\n"
     ]
    }
   ],
   "source": [
    "# Creating the test_generator\n",
    "test_generator = test_datagen.flow_from_directory(testPathDest,\n",
    "                                                  target_size=(150, 150),\n",
    "                                                  batch_size=20,\n",
    "                                                  class_mode='categorical')"
   ]
  },
  {
   "cell_type": "markdown",
   "metadata": {
    "_uuid": "ed77de9a588d43444f8ebaca32c4fe86397af970"
   },
   "source": [
    "We use evaluate_generator to test our model on the test data. The steps variable as before will be:\n",
    "np.floor(8084/20).astype(int)"
   ]
  },
  {
   "cell_type": "code",
   "execution_count": 20,
   "metadata": {
    "_uuid": "e750e791c9576fb78628ef596cb87cefd1573c07"
   },
   "outputs": [
    {
     "name": "stdout",
     "output_type": "stream",
     "text": [
      "Test accuracy for the model is 99.18316812208383 %\n"
     ]
    }
   ],
   "source": [
    "steps = np.floor(8084/20).astype(int)\n",
    "test_loss, test_acc = model.evaluate_generator(test_generator, steps=steps)\n",
    "print('Test accuracy for the model is {} %'. format(test_acc*100))"
   ]
  },
  {
   "cell_type": "markdown",
   "metadata": {
    "_uuid": "2d0bdd5c3ea310d490df8140602db2baa9b151bb"
   },
   "source": [
    "## Model accuracy for test data\n",
    "The model gives us an accuracy of 99 % on test data."
   ]
  },
  {
   "cell_type": "code",
   "execution_count": null,
   "metadata": {
    "_uuid": "908c50613e15f7b500a53de199b809ff56d15d62",
    "collapsed": true
   },
   "outputs": [],
   "source": []
  }
 ],
 "metadata": {
  "kernelspec": {
   "display_name": "Python 3",
   "language": "python",
   "name": "python3"
  },
  "language_info": {
   "codemirror_mode": {
    "name": "ipython",
    "version": 3
   },
   "file_extension": ".py",
   "mimetype": "text/x-python",
   "name": "python",
   "nbconvert_exporter": "python",
   "pygments_lexer": "ipython3",
   "version": "3.6.5"
  }
 },
 "nbformat": 4,
 "nbformat_minor": 1
}
